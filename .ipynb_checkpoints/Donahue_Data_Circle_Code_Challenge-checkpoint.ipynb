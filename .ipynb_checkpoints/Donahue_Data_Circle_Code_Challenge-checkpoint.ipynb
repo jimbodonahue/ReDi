{
 "cells": [
  {
   "cell_type": "markdown",
   "id": "971b4ac7",
   "metadata": {
    "colab_type": "text",
    "id": "view-in-github"
   },
   "source": [
    "<a href=\"https://colab.research.google.com/github/jimbodonahue/ReDi/blob/main/Donahue_Data_Circle_Code_Challenge.ipynb\" target=\"_parent\"><img src=\"https://colab.research.google.com/assets/colab-badge.svg\" alt=\"Open In Colab\"/></a>"
   ]
  },
  {
   "cell_type": "markdown",
   "id": "aizt6lSTxKRA",
   "metadata": {
    "id": "aizt6lSTxKRA"
   },
   "source": [
    "# Welcome to Prework of ReDI's Course: **Data Circle** 🎉\n",
    "\n",
    "We have a short challenge for you to work on. It has further resources for you to follow up on the topics."
   ]
  },
  {
   "cell_type": "markdown",
   "id": "htmwoDlYq1dy",
   "metadata": {
    "id": "htmwoDlYq1dy"
   },
   "source": [
    "------------------------------\n",
    "\n",
    "# IMPORTANT!!! Create a copy of this Colab!\n",
    "In order to work with this Google Colab you need to create a copy of it. Please DO NOT provide your answers here. Instead, work on the copy version. To make a copy:\n",
    "\n",
    "Click on: File -> save a copy in drive\n",
    "\n",
    "Have you successfully created the copy? if yes, there must be a new tab opened in your browser. Now move to the copy and start from there!\n",
    "\n",
    "------------------------------"
   ]
  },
  {
   "cell_type": "markdown",
   "id": "9b3b4ba6-3c1d-4afe-a479-b56f000ca04e",
   "metadata": {
    "id": "9b3b4ba6-3c1d-4afe-a479-b56f000ca04e"
   },
   "source": [
    "# Student Grades Analysis Challenge"
   ]
  },
  {
   "cell_type": "markdown",
   "id": "054a27c9-bda7-4a9d-8677-7f088c4ba6d0",
   "metadata": {
    "id": "054a27c9-bda7-4a9d-8677-7f088c4ba6d0"
   },
   "source": [
    "In this coding challenge, you will work with a dataset containing student grades across various subjects. Your task is to process and analyze this data to extract meaningful insights.\n",
    "\n",
    "Here's the data:\n",
    "\n",
    "```python\n",
    "[\n",
    "    {\"name\": \"Alice\", \"subject\": \"Math\", \"grade\": \"79\"},\n",
    "    {\"name\": \"Alice\", \"subject\": \"Science\", \"grade\": \"88\"},\n",
    "    {\"name\": \"Alice\", \"subject\": \"Arts\", \"grade\": \"50\"},\n",
    "    {\"name\": \"Bob\", \"subject\": \"Math\", \"grade\": \"78\"},\n",
    "    {\"name\": \"Bob\", \"subject\": \"Science\", \"grade\": \"84\"},\n",
    "    {\"name\": \"Bob\", \"subject\": \"Arts\", \"grade\": \"75\"},\n",
    "    {\"name\": \"Charlie\", \"subject\": \"Math\", \"grade\": \"88\"},\n",
    "    {\"name\": \"Charlie\", \"subject\": \"Science\", \"grade\": \"64\"},\n",
    "    {\"name\": \"Charlie\", \"subject\": \"Arts\", \"grade\": \"61\"},\n",
    "    {\"name\": \"Linda\", \"subject\": \"Math\", \"grade\": \"58\"},\n",
    "    {\"name\": \"Linda\", \"subject\": \"Science\", \"grade\": \"87\"},\n",
    "    {\"name\": \"Linda\", \"subject\": \"Arts\", \"grade\": \"80\"},\n",
    "    {\"name\": \"Maria\", \"subject\": \"Math\", \"grade\": \"64\"},\n",
    "    {\"name\": \"Maria\", \"subject\": \"Science\", \"grade\": \"75\"},\n",
    "    {\"name\": \"Maria\", \"subject\": \"Arts\", \"grade\": \"73\"}\n",
    "]\n",
    "```\n",
    "To complete the challenge, you may import any relevant libraries and check the official documentation.\n",
    "\n",
    "Need help? In this document you find more resources to complete the code challenge: [Code Challenge Resources](https://docs.google.com/document/d/1J4ipHRMGgMTsMPjxtjIFcdO6kS59khRH_WF6XjdHvng/edit?usp=sharing)."
   ]
  },
  {
   "cell_type": "markdown",
   "id": "033fa52a-08e3-427f-ad0d-8737ac63117b",
   "metadata": {
    "id": "033fa52a-08e3-427f-ad0d-8737ac63117b"
   },
   "source": [
    "## Tasks"
   ]
  },
  {
   "cell_type": "code",
   "execution_count": 2,
   "id": "56961242-b819-4d8c-93f4-c995d14701c0",
   "metadata": {
    "id": "56961242-b819-4d8c-93f4-c995d14701c0"
   },
   "outputs": [
    {
     "name": "stderr",
     "output_type": "stream",
     "text": [
      "/home/jim/.local/lib/python3.12/site-packages/pandas/core/arrays/masked.py:60: UserWarning: Pandas requires version '1.3.6' or newer of 'bottleneck' (version '1.3.5' currently installed).\n",
      "  from pandas.core import (\n",
      "/home/jim/.local/lib/python3.12/site-packages/matplotlib/projections/__init__.py:63: UserWarning: Unable to import Axes3D. This may be due to multiple versions of Matplotlib being installed (e.g. as a system package and as a pip package). As a result, the 3D projection is not available.\n",
      "  warnings.warn(\"Unable to import Axes3D. This may be due to multiple versions of \"\n"
     ]
    }
   ],
   "source": [
    "# Import libraries\n",
    "import pandas as pd\n",
    "import numpy as np\n",
    "import matplotlib.pyplot as plt\n",
    "import seaborn as sns"
   ]
  },
  {
   "cell_type": "markdown",
   "id": "9271f6fe-72f8-4a6e-9579-19dd10280617",
   "metadata": {
    "id": "9271f6fe-72f8-4a6e-9579-19dd10280617"
   },
   "source": [
    "1. **Calculate the average grade of each student (or subject)**. You can choose how to output the result."
   ]
  },
  {
   "cell_type": "code",
   "execution_count": 32,
   "id": "b1dde970-b9d3-4a53-94c5-06728654ca10",
   "metadata": {},
   "outputs": [
    {
     "data": {
      "text/html": [
       "<div>\n",
       "<style scoped>\n",
       "    .dataframe tbody tr th:only-of-type {\n",
       "        vertical-align: middle;\n",
       "    }\n",
       "\n",
       "    .dataframe tbody tr th {\n",
       "        vertical-align: top;\n",
       "    }\n",
       "\n",
       "    .dataframe thead th {\n",
       "        text-align: right;\n",
       "    }\n",
       "</style>\n",
       "<table border=\"1\" class=\"dataframe\">\n",
       "  <thead>\n",
       "    <tr style=\"text-align: right;\">\n",
       "      <th></th>\n",
       "      <th>name</th>\n",
       "      <th>subject</th>\n",
       "      <th>grade</th>\n",
       "    </tr>\n",
       "  </thead>\n",
       "  <tbody>\n",
       "    <tr>\n",
       "      <th>0</th>\n",
       "      <td>Alice</td>\n",
       "      <td>Math</td>\n",
       "      <td>79</td>\n",
       "    </tr>\n",
       "    <tr>\n",
       "      <th>1</th>\n",
       "      <td>Alice</td>\n",
       "      <td>Science</td>\n",
       "      <td>88</td>\n",
       "    </tr>\n",
       "    <tr>\n",
       "      <th>2</th>\n",
       "      <td>Alice</td>\n",
       "      <td>Arts</td>\n",
       "      <td>50</td>\n",
       "    </tr>\n",
       "    <tr>\n",
       "      <th>3</th>\n",
       "      <td>Bob</td>\n",
       "      <td>Math</td>\n",
       "      <td>78</td>\n",
       "    </tr>\n",
       "    <tr>\n",
       "      <th>4</th>\n",
       "      <td>Bob</td>\n",
       "      <td>Science</td>\n",
       "      <td>84</td>\n",
       "    </tr>\n",
       "  </tbody>\n",
       "</table>\n",
       "</div>"
      ],
      "text/plain": [
       "    name  subject  grade\n",
       "0  Alice     Math     79\n",
       "1  Alice  Science     88\n",
       "2  Alice     Arts     50\n",
       "3    Bob     Math     78\n",
       "4    Bob  Science     84"
      ]
     },
     "execution_count": 32,
     "metadata": {},
     "output_type": "execute_result"
    }
   ],
   "source": [
    "dicc = [\n",
    "    {\"name\": \"Alice\", \"subject\": \"Math\", \"grade\": \"79\"},\n",
    "    {\"name\": \"Alice\", \"subject\": \"Science\", \"grade\": \"88\"},\n",
    "    {\"name\": \"Alice\", \"subject\": \"Arts\", \"grade\": \"50\"},\n",
    "    {\"name\": \"Bob\", \"subject\": \"Math\", \"grade\": \"78\"},\n",
    "    {\"name\": \"Bob\", \"subject\": \"Science\", \"grade\": \"84\"},\n",
    "    {\"name\": \"Bob\", \"subject\": \"Arts\", \"grade\": \"75\"},\n",
    "    {\"name\": \"Charlie\", \"subject\": \"Math\", \"grade\": \"88\"},\n",
    "    {\"name\": \"Charlie\", \"subject\": \"Science\", \"grade\": \"64\"},\n",
    "    {\"name\": \"Charlie\", \"subject\": \"Arts\", \"grade\": \"61\"},\n",
    "    {\"name\": \"Linda\", \"subject\": \"Math\", \"grade\": \"58\"},\n",
    "    {\"name\": \"Linda\", \"subject\": \"Science\", \"grade\": \"87\"},\n",
    "    {\"name\": \"Linda\", \"subject\": \"Arts\", \"grade\": \"80\"},\n",
    "    {\"name\": \"Maria\", \"subject\": \"Math\", \"grade\": \"64\"},\n",
    "    {\"name\": \"Maria\", \"subject\": \"Science\", \"grade\": \"75\"},\n",
    "    {\"name\": \"Maria\", \"subject\": \"Arts\", \"grade\": \"73\"}\n",
    "]\n",
    "df = pd.DataFrame(dicc)\n",
    "df.grade = pd.to_numeric(df.grade)\n",
    "pd.options.display.float_format = '{:.2f}'.format\n",
    "df.head()"
   ]
  },
  {
   "cell_type": "code",
   "execution_count": 33,
   "id": "1964b113-f4d7-40f2-a102-439ebd2c896c",
   "metadata": {
    "colab": {
     "base_uri": "https://localhost:8080/"
    },
    "id": "1964b113-f4d7-40f2-a102-439ebd2c896c",
    "outputId": "6e557fcc-3f25-440d-d5c0-df7d5dccecdf"
   },
   "outputs": [
    {
     "name": "stdout",
     "output_type": "stream",
     "text": [
      "Average grades by student: name\n",
      "Alice     72.33\n",
      "Bob       79.00\n",
      "Charlie   71.00\n",
      "Linda     75.00\n",
      "Maria     70.67\n",
      "Name: grade, dtype: float64 Average grades by subject: subject\n",
      "Arts      67.80\n",
      "Math      73.40\n",
      "Science   79.60\n",
      "Name: grade, dtype: float64\n"
     ]
    }
   ],
   "source": [
    "\n",
    "print(\"Average grades by student:\", df.groupby('name')['grade'].mean(), \"Average grades by subject:\", df.groupby('subject')['grade'].mean())\n"
   ]
  },
  {
   "cell_type": "markdown",
   "id": "d5a212a9-d3aa-4588-b8e7-1d1dab2cbcd3",
   "metadata": {
    "id": "d5a212a9-d3aa-4588-b8e7-1d1dab2cbcd3"
   },
   "source": [
    "2. **Load the dataset** into a pandas DataFrame."
   ]
  },
  {
   "cell_type": "code",
   "execution_count": 35,
   "id": "41e6d8ba-73f7-4348-ba6d-a487d6531b94",
   "metadata": {
    "colab": {
     "base_uri": "https://localhost:8080/",
     "height": 519
    },
    "id": "41e6d8ba-73f7-4348-ba6d-a487d6531b94",
    "outputId": "ac86391f-c24a-4154-a572-be1f50c49408"
   },
   "outputs": [
    {
     "data": {
      "text/html": [
       "<div>\n",
       "<style scoped>\n",
       "    .dataframe tbody tr th:only-of-type {\n",
       "        vertical-align: middle;\n",
       "    }\n",
       "\n",
       "    .dataframe tbody tr th {\n",
       "        vertical-align: top;\n",
       "    }\n",
       "\n",
       "    .dataframe thead th {\n",
       "        text-align: right;\n",
       "    }\n",
       "</style>\n",
       "<table border=\"1\" class=\"dataframe\">\n",
       "  <thead>\n",
       "    <tr style=\"text-align: right;\">\n",
       "      <th></th>\n",
       "      <th>name</th>\n",
       "      <th>subject</th>\n",
       "      <th>grade</th>\n",
       "    </tr>\n",
       "  </thead>\n",
       "  <tbody>\n",
       "    <tr>\n",
       "      <th>0</th>\n",
       "      <td>Alice</td>\n",
       "      <td>Math</td>\n",
       "      <td>79</td>\n",
       "    </tr>\n",
       "    <tr>\n",
       "      <th>1</th>\n",
       "      <td>Alice</td>\n",
       "      <td>Science</td>\n",
       "      <td>88</td>\n",
       "    </tr>\n",
       "    <tr>\n",
       "      <th>2</th>\n",
       "      <td>Alice</td>\n",
       "      <td>Arts</td>\n",
       "      <td>50</td>\n",
       "    </tr>\n",
       "    <tr>\n",
       "      <th>3</th>\n",
       "      <td>Bob</td>\n",
       "      <td>Math</td>\n",
       "      <td>78</td>\n",
       "    </tr>\n",
       "    <tr>\n",
       "      <th>4</th>\n",
       "      <td>Bob</td>\n",
       "      <td>Science</td>\n",
       "      <td>84</td>\n",
       "    </tr>\n",
       "    <tr>\n",
       "      <th>5</th>\n",
       "      <td>Bob</td>\n",
       "      <td>Arts</td>\n",
       "      <td>75</td>\n",
       "    </tr>\n",
       "    <tr>\n",
       "      <th>6</th>\n",
       "      <td>Charlie</td>\n",
       "      <td>Math</td>\n",
       "      <td>88</td>\n",
       "    </tr>\n",
       "    <tr>\n",
       "      <th>7</th>\n",
       "      <td>Charlie</td>\n",
       "      <td>Science</td>\n",
       "      <td>64</td>\n",
       "    </tr>\n",
       "    <tr>\n",
       "      <th>8</th>\n",
       "      <td>Charlie</td>\n",
       "      <td>Arts</td>\n",
       "      <td>61</td>\n",
       "    </tr>\n",
       "    <tr>\n",
       "      <th>9</th>\n",
       "      <td>Linda</td>\n",
       "      <td>Math</td>\n",
       "      <td>58</td>\n",
       "    </tr>\n",
       "    <tr>\n",
       "      <th>10</th>\n",
       "      <td>Linda</td>\n",
       "      <td>Science</td>\n",
       "      <td>87</td>\n",
       "    </tr>\n",
       "    <tr>\n",
       "      <th>11</th>\n",
       "      <td>Linda</td>\n",
       "      <td>Arts</td>\n",
       "      <td>80</td>\n",
       "    </tr>\n",
       "    <tr>\n",
       "      <th>12</th>\n",
       "      <td>Maria</td>\n",
       "      <td>Math</td>\n",
       "      <td>64</td>\n",
       "    </tr>\n",
       "    <tr>\n",
       "      <th>13</th>\n",
       "      <td>Maria</td>\n",
       "      <td>Science</td>\n",
       "      <td>75</td>\n",
       "    </tr>\n",
       "    <tr>\n",
       "      <th>14</th>\n",
       "      <td>Maria</td>\n",
       "      <td>Arts</td>\n",
       "      <td>73</td>\n",
       "    </tr>\n",
       "  </tbody>\n",
       "</table>\n",
       "</div>"
      ],
      "text/plain": [
       "       name  subject  grade\n",
       "0     Alice     Math     79\n",
       "1     Alice  Science     88\n",
       "2     Alice     Arts     50\n",
       "3       Bob     Math     78\n",
       "4       Bob  Science     84\n",
       "5       Bob     Arts     75\n",
       "6   Charlie     Math     88\n",
       "7   Charlie  Science     64\n",
       "8   Charlie     Arts     61\n",
       "9     Linda     Math     58\n",
       "10    Linda  Science     87\n",
       "11    Linda     Arts     80\n",
       "12    Maria     Math     64\n",
       "13    Maria  Science     75\n",
       "14    Maria     Arts     73"
      ]
     },
     "execution_count": 35,
     "metadata": {},
     "output_type": "execute_result"
    }
   ],
   "source": [
    "# Your code here\n",
    "df"
   ]
  },
  {
   "cell_type": "markdown",
   "id": "aa45436f-f681-46bf-8462-e4881c3eaec5",
   "metadata": {
    "id": "aa45436f-f681-46bf-8462-e4881c3eaec5"
   },
   "source": [
    "3. **Calculate the average grade** for each student and for each subject."
   ]
  },
  {
   "cell_type": "code",
   "execution_count": 67,
   "id": "23e26d50-a163-44e7-8c14-35e494e2ea3a",
   "metadata": {
    "colab": {
     "base_uri": "https://localhost:8080/",
     "height": 272
    },
    "id": "23e26d50-a163-44e7-8c14-35e494e2ea3a",
    "outputId": "7a127a4a-3f73-4857-9d02-057296a44c75"
   },
   "outputs": [
    {
     "name": "stdout",
     "output_type": "stream",
     "text": [
      "Average grade by student             grade\n",
      "name             \n",
      "alice   72.333333\n",
      "bob     79.000000\n",
      "charlie 71.000000\n",
      "linda   75.000000\n",
      "maria   70.666667 \n",
      " \n",
      " Average grade by subject             grade\n",
      "subject          \n",
      "arts    67.800000\n",
      "math    73.400000\n",
      "science 79.600000\n"
     ]
    }
   ],
   "source": [
    "pd.options.display.float_format = '{:.6f}'.format\n",
    "names = pd.DataFrame(df.groupby('name')['grade'].mean())\n",
    "subject = pd.DataFrame(df.groupby('subject')['grade'].mean())\n",
    "print(\"Average grade by student\", names, \"\\n \\n Average grade by subject\",subject)"
   ]
  },
  {
   "cell_type": "markdown",
   "id": "503670a8-56ca-4ca0-ba2b-7760c30abc80",
   "metadata": {
    "id": "503670a8-56ca-4ca0-ba2b-7760c30abc80"
   },
   "source": [
    "4. **Convert grade to letter grade:** Create a new column to convert the numerical grades into letter grades using the following scale:  \n",
    "   - A: 90 and above\n",
    "   - B: 80 to 89\n",
    "   - C: 70 to 79\n",
    "   - D: 60 to 69\n",
    "   - F: Below 60"
   ]
  },
  {
   "cell_type": "code",
   "execution_count": 45,
   "id": "d94ca2aa-8ea5-4ac3-8fe2-2234bcfd95f5",
   "metadata": {
    "colab": {
     "base_uri": "https://localhost:8080/",
     "height": 519
    },
    "id": "d94ca2aa-8ea5-4ac3-8fe2-2234bcfd95f5",
    "outputId": "5b65a888-b07a-4324-949c-10f34f9fdffe"
   },
   "outputs": [
    {
     "data": {
      "text/html": [
       "<div>\n",
       "<style scoped>\n",
       "    .dataframe tbody tr th:only-of-type {\n",
       "        vertical-align: middle;\n",
       "    }\n",
       "\n",
       "    .dataframe tbody tr th {\n",
       "        vertical-align: top;\n",
       "    }\n",
       "\n",
       "    .dataframe thead th {\n",
       "        text-align: right;\n",
       "    }\n",
       "</style>\n",
       "<table border=\"1\" class=\"dataframe\">\n",
       "  <thead>\n",
       "    <tr style=\"text-align: right;\">\n",
       "      <th></th>\n",
       "      <th>name</th>\n",
       "      <th>subject</th>\n",
       "      <th>grade</th>\n",
       "      <th>letter_grade</th>\n",
       "    </tr>\n",
       "  </thead>\n",
       "  <tbody>\n",
       "    <tr>\n",
       "      <th>0</th>\n",
       "      <td>Alice</td>\n",
       "      <td>Math</td>\n",
       "      <td>79</td>\n",
       "      <td>C</td>\n",
       "    </tr>\n",
       "    <tr>\n",
       "      <th>1</th>\n",
       "      <td>Alice</td>\n",
       "      <td>Science</td>\n",
       "      <td>88</td>\n",
       "      <td>B</td>\n",
       "    </tr>\n",
       "    <tr>\n",
       "      <th>2</th>\n",
       "      <td>Alice</td>\n",
       "      <td>Arts</td>\n",
       "      <td>50</td>\n",
       "      <td>F</td>\n",
       "    </tr>\n",
       "    <tr>\n",
       "      <th>3</th>\n",
       "      <td>Bob</td>\n",
       "      <td>Math</td>\n",
       "      <td>78</td>\n",
       "      <td>C</td>\n",
       "    </tr>\n",
       "    <tr>\n",
       "      <th>4</th>\n",
       "      <td>Bob</td>\n",
       "      <td>Science</td>\n",
       "      <td>84</td>\n",
       "      <td>B</td>\n",
       "    </tr>\n",
       "    <tr>\n",
       "      <th>5</th>\n",
       "      <td>Bob</td>\n",
       "      <td>Arts</td>\n",
       "      <td>75</td>\n",
       "      <td>C</td>\n",
       "    </tr>\n",
       "    <tr>\n",
       "      <th>6</th>\n",
       "      <td>Charlie</td>\n",
       "      <td>Math</td>\n",
       "      <td>88</td>\n",
       "      <td>B</td>\n",
       "    </tr>\n",
       "    <tr>\n",
       "      <th>7</th>\n",
       "      <td>Charlie</td>\n",
       "      <td>Science</td>\n",
       "      <td>64</td>\n",
       "      <td>D</td>\n",
       "    </tr>\n",
       "    <tr>\n",
       "      <th>8</th>\n",
       "      <td>Charlie</td>\n",
       "      <td>Arts</td>\n",
       "      <td>61</td>\n",
       "      <td>D</td>\n",
       "    </tr>\n",
       "    <tr>\n",
       "      <th>9</th>\n",
       "      <td>Linda</td>\n",
       "      <td>Math</td>\n",
       "      <td>58</td>\n",
       "      <td>F</td>\n",
       "    </tr>\n",
       "    <tr>\n",
       "      <th>10</th>\n",
       "      <td>Linda</td>\n",
       "      <td>Science</td>\n",
       "      <td>87</td>\n",
       "      <td>B</td>\n",
       "    </tr>\n",
       "    <tr>\n",
       "      <th>11</th>\n",
       "      <td>Linda</td>\n",
       "      <td>Arts</td>\n",
       "      <td>80</td>\n",
       "      <td>B</td>\n",
       "    </tr>\n",
       "    <tr>\n",
       "      <th>12</th>\n",
       "      <td>Maria</td>\n",
       "      <td>Math</td>\n",
       "      <td>64</td>\n",
       "      <td>D</td>\n",
       "    </tr>\n",
       "    <tr>\n",
       "      <th>13</th>\n",
       "      <td>Maria</td>\n",
       "      <td>Science</td>\n",
       "      <td>75</td>\n",
       "      <td>C</td>\n",
       "    </tr>\n",
       "    <tr>\n",
       "      <th>14</th>\n",
       "      <td>Maria</td>\n",
       "      <td>Arts</td>\n",
       "      <td>73</td>\n",
       "      <td>C</td>\n",
       "    </tr>\n",
       "  </tbody>\n",
       "</table>\n",
       "</div>"
      ],
      "text/plain": [
       "       name  subject  grade letter_grade\n",
       "0     Alice     Math     79            C\n",
       "1     Alice  Science     88            B\n",
       "2     Alice     Arts     50            F\n",
       "3       Bob     Math     78            C\n",
       "4       Bob  Science     84            B\n",
       "5       Bob     Arts     75            C\n",
       "6   Charlie     Math     88            B\n",
       "7   Charlie  Science     64            D\n",
       "8   Charlie     Arts     61            D\n",
       "9     Linda     Math     58            F\n",
       "10    Linda  Science     87            B\n",
       "11    Linda     Arts     80            B\n",
       "12    Maria     Math     64            D\n",
       "13    Maria  Science     75            C\n",
       "14    Maria     Arts     73            C"
      ]
     },
     "execution_count": 45,
     "metadata": {},
     "output_type": "execute_result"
    }
   ],
   "source": [
    "df['letter_grade'] = df['grade'].apply(lambda x: 'A' if x >= 90 else ('B' if x>=80 else ('C' if x>=70 else ('D' if x>=60 else 'F'))))\n",
    "df"
   ]
  },
  {
   "cell_type": "markdown",
   "id": "dabe8e2f-823f-49cd-900d-25a9a4801a6e",
   "metadata": {
    "id": "dabe8e2f-823f-49cd-900d-25a9a4801a6e"
   },
   "source": [
    "5. **Determine student status:** Add another column indicating the status of each student based on their grade:  \n",
    "   - \"Passed\" if the grade is 60 or above (or not 'F')\n",
    "   - \"Failed\" if the grade is below 60 (or 'F')"
   ]
  },
  {
   "cell_type": "code",
   "execution_count": 48,
   "id": "8ae8797d-3c3f-4f15-b1a3-d708f3c2294f",
   "metadata": {
    "colab": {
     "base_uri": "https://localhost:8080/",
     "height": 519
    },
    "id": "8ae8797d-3c3f-4f15-b1a3-d708f3c2294f",
    "outputId": "849cb633-07cc-47cb-9167-935f610329cd"
   },
   "outputs": [
    {
     "data": {
      "text/html": [
       "<div>\n",
       "<style scoped>\n",
       "    .dataframe tbody tr th:only-of-type {\n",
       "        vertical-align: middle;\n",
       "    }\n",
       "\n",
       "    .dataframe tbody tr th {\n",
       "        vertical-align: top;\n",
       "    }\n",
       "\n",
       "    .dataframe thead th {\n",
       "        text-align: right;\n",
       "    }\n",
       "</style>\n",
       "<table border=\"1\" class=\"dataframe\">\n",
       "  <thead>\n",
       "    <tr style=\"text-align: right;\">\n",
       "      <th></th>\n",
       "      <th>name</th>\n",
       "      <th>subject</th>\n",
       "      <th>grade</th>\n",
       "      <th>letter_grade</th>\n",
       "      <th>status</th>\n",
       "    </tr>\n",
       "  </thead>\n",
       "  <tbody>\n",
       "    <tr>\n",
       "      <th>0</th>\n",
       "      <td>Alice</td>\n",
       "      <td>Math</td>\n",
       "      <td>79</td>\n",
       "      <td>C</td>\n",
       "      <td>Passed</td>\n",
       "    </tr>\n",
       "    <tr>\n",
       "      <th>1</th>\n",
       "      <td>Alice</td>\n",
       "      <td>Science</td>\n",
       "      <td>88</td>\n",
       "      <td>B</td>\n",
       "      <td>Passed</td>\n",
       "    </tr>\n",
       "    <tr>\n",
       "      <th>2</th>\n",
       "      <td>Alice</td>\n",
       "      <td>Arts</td>\n",
       "      <td>50</td>\n",
       "      <td>F</td>\n",
       "      <td>Failed</td>\n",
       "    </tr>\n",
       "    <tr>\n",
       "      <th>3</th>\n",
       "      <td>Bob</td>\n",
       "      <td>Math</td>\n",
       "      <td>78</td>\n",
       "      <td>C</td>\n",
       "      <td>Passed</td>\n",
       "    </tr>\n",
       "    <tr>\n",
       "      <th>4</th>\n",
       "      <td>Bob</td>\n",
       "      <td>Science</td>\n",
       "      <td>84</td>\n",
       "      <td>B</td>\n",
       "      <td>Passed</td>\n",
       "    </tr>\n",
       "    <tr>\n",
       "      <th>5</th>\n",
       "      <td>Bob</td>\n",
       "      <td>Arts</td>\n",
       "      <td>75</td>\n",
       "      <td>C</td>\n",
       "      <td>Passed</td>\n",
       "    </tr>\n",
       "    <tr>\n",
       "      <th>6</th>\n",
       "      <td>Charlie</td>\n",
       "      <td>Math</td>\n",
       "      <td>88</td>\n",
       "      <td>B</td>\n",
       "      <td>Passed</td>\n",
       "    </tr>\n",
       "    <tr>\n",
       "      <th>7</th>\n",
       "      <td>Charlie</td>\n",
       "      <td>Science</td>\n",
       "      <td>64</td>\n",
       "      <td>D</td>\n",
       "      <td>Passed</td>\n",
       "    </tr>\n",
       "    <tr>\n",
       "      <th>8</th>\n",
       "      <td>Charlie</td>\n",
       "      <td>Arts</td>\n",
       "      <td>61</td>\n",
       "      <td>D</td>\n",
       "      <td>Passed</td>\n",
       "    </tr>\n",
       "    <tr>\n",
       "      <th>9</th>\n",
       "      <td>Linda</td>\n",
       "      <td>Math</td>\n",
       "      <td>58</td>\n",
       "      <td>F</td>\n",
       "      <td>Failed</td>\n",
       "    </tr>\n",
       "    <tr>\n",
       "      <th>10</th>\n",
       "      <td>Linda</td>\n",
       "      <td>Science</td>\n",
       "      <td>87</td>\n",
       "      <td>B</td>\n",
       "      <td>Passed</td>\n",
       "    </tr>\n",
       "    <tr>\n",
       "      <th>11</th>\n",
       "      <td>Linda</td>\n",
       "      <td>Arts</td>\n",
       "      <td>80</td>\n",
       "      <td>B</td>\n",
       "      <td>Passed</td>\n",
       "    </tr>\n",
       "    <tr>\n",
       "      <th>12</th>\n",
       "      <td>Maria</td>\n",
       "      <td>Math</td>\n",
       "      <td>64</td>\n",
       "      <td>D</td>\n",
       "      <td>Passed</td>\n",
       "    </tr>\n",
       "    <tr>\n",
       "      <th>13</th>\n",
       "      <td>Maria</td>\n",
       "      <td>Science</td>\n",
       "      <td>75</td>\n",
       "      <td>C</td>\n",
       "      <td>Passed</td>\n",
       "    </tr>\n",
       "    <tr>\n",
       "      <th>14</th>\n",
       "      <td>Maria</td>\n",
       "      <td>Arts</td>\n",
       "      <td>73</td>\n",
       "      <td>C</td>\n",
       "      <td>Passed</td>\n",
       "    </tr>\n",
       "  </tbody>\n",
       "</table>\n",
       "</div>"
      ],
      "text/plain": [
       "       name  subject  grade letter_grade  status\n",
       "0     Alice     Math     79            C  Passed\n",
       "1     Alice  Science     88            B  Passed\n",
       "2     Alice     Arts     50            F  Failed\n",
       "3       Bob     Math     78            C  Passed\n",
       "4       Bob  Science     84            B  Passed\n",
       "5       Bob     Arts     75            C  Passed\n",
       "6   Charlie     Math     88            B  Passed\n",
       "7   Charlie  Science     64            D  Passed\n",
       "8   Charlie     Arts     61            D  Passed\n",
       "9     Linda     Math     58            F  Failed\n",
       "10    Linda  Science     87            B  Passed\n",
       "11    Linda     Arts     80            B  Passed\n",
       "12    Maria     Math     64            D  Passed\n",
       "13    Maria  Science     75            C  Passed\n",
       "14    Maria     Arts     73            C  Passed"
      ]
     },
     "execution_count": 48,
     "metadata": {},
     "output_type": "execute_result"
    }
   ],
   "source": [
    "df['status'] = df['letter_grade'].apply(lambda x: 'Failed' if x=='F' else 'Passed')\n",
    "df"
   ]
  },
  {
   "cell_type": "markdown",
   "id": "9333bb84-a069-40ec-b9d2-e7660a67c251",
   "metadata": {
    "id": "9333bb84-a069-40ec-b9d2-e7660a67c251"
   },
   "source": [
    "6. **Filter and display** only the students who have failed.  "
   ]
  },
  {
   "cell_type": "code",
   "execution_count": 50,
   "id": "9bc7c287-62c3-4938-bc8f-1e77b4817508",
   "metadata": {
    "colab": {
     "base_uri": "https://localhost:8080/",
     "height": 112
    },
    "id": "9bc7c287-62c3-4938-bc8f-1e77b4817508",
    "outputId": "62b64fbe-c74e-4feb-e669-a43e31327e17"
   },
   "outputs": [
    {
     "data": {
      "text/html": [
       "<div>\n",
       "<style scoped>\n",
       "    .dataframe tbody tr th:only-of-type {\n",
       "        vertical-align: middle;\n",
       "    }\n",
       "\n",
       "    .dataframe tbody tr th {\n",
       "        vertical-align: top;\n",
       "    }\n",
       "\n",
       "    .dataframe thead th {\n",
       "        text-align: right;\n",
       "    }\n",
       "</style>\n",
       "<table border=\"1\" class=\"dataframe\">\n",
       "  <thead>\n",
       "    <tr style=\"text-align: right;\">\n",
       "      <th></th>\n",
       "      <th>name</th>\n",
       "      <th>subject</th>\n",
       "      <th>grade</th>\n",
       "      <th>letter_grade</th>\n",
       "      <th>status</th>\n",
       "    </tr>\n",
       "  </thead>\n",
       "  <tbody>\n",
       "    <tr>\n",
       "      <th>2</th>\n",
       "      <td>Alice</td>\n",
       "      <td>Arts</td>\n",
       "      <td>50</td>\n",
       "      <td>F</td>\n",
       "      <td>Failed</td>\n",
       "    </tr>\n",
       "    <tr>\n",
       "      <th>9</th>\n",
       "      <td>Linda</td>\n",
       "      <td>Math</td>\n",
       "      <td>58</td>\n",
       "      <td>F</td>\n",
       "      <td>Failed</td>\n",
       "    </tr>\n",
       "  </tbody>\n",
       "</table>\n",
       "</div>"
      ],
      "text/plain": [
       "    name subject  grade letter_grade  status\n",
       "2  Alice    Arts     50            F  Failed\n",
       "9  Linda    Math     58            F  Failed"
      ]
     },
     "execution_count": 50,
     "metadata": {},
     "output_type": "execute_result"
    }
   ],
   "source": [
    "failed = df[df.status == 'Failed']\n",
    "failed\n"
   ]
  },
  {
   "cell_type": "markdown",
   "id": "2e39c196-5f29-4d0d-85df-376ec95ca75a",
   "metadata": {
    "id": "2e39c196-5f29-4d0d-85df-376ec95ca75a"
   },
   "source": [
    "7. *\\[BONUS\\]* **Standardize text data:** Convert all strings in the `'name'` and `'subject'` columns to lowercase."
   ]
  },
  {
   "cell_type": "code",
   "execution_count": 60,
   "id": "532bec3e-9b4a-4714-bfa6-5ca311b701a1",
   "metadata": {
    "colab": {
     "base_uri": "https://localhost:8080/",
     "height": 519
    },
    "id": "532bec3e-9b4a-4714-bfa6-5ca311b701a1",
    "outputId": "9d9adb08-cb8b-47f0-91be-32dd2e2a069d"
   },
   "outputs": [
    {
     "data": {
      "text/html": [
       "<div>\n",
       "<style scoped>\n",
       "    .dataframe tbody tr th:only-of-type {\n",
       "        vertical-align: middle;\n",
       "    }\n",
       "\n",
       "    .dataframe tbody tr th {\n",
       "        vertical-align: top;\n",
       "    }\n",
       "\n",
       "    .dataframe thead th {\n",
       "        text-align: right;\n",
       "    }\n",
       "</style>\n",
       "<table border=\"1\" class=\"dataframe\">\n",
       "  <thead>\n",
       "    <tr style=\"text-align: right;\">\n",
       "      <th></th>\n",
       "      <th>name</th>\n",
       "      <th>subject</th>\n",
       "      <th>grade</th>\n",
       "      <th>letter_grade</th>\n",
       "      <th>status</th>\n",
       "    </tr>\n",
       "  </thead>\n",
       "  <tbody>\n",
       "    <tr>\n",
       "      <th>0</th>\n",
       "      <td>alice</td>\n",
       "      <td>math</td>\n",
       "      <td>79</td>\n",
       "      <td>C</td>\n",
       "      <td>Passed</td>\n",
       "    </tr>\n",
       "    <tr>\n",
       "      <th>1</th>\n",
       "      <td>alice</td>\n",
       "      <td>science</td>\n",
       "      <td>88</td>\n",
       "      <td>B</td>\n",
       "      <td>Passed</td>\n",
       "    </tr>\n",
       "    <tr>\n",
       "      <th>2</th>\n",
       "      <td>alice</td>\n",
       "      <td>arts</td>\n",
       "      <td>50</td>\n",
       "      <td>F</td>\n",
       "      <td>Failed</td>\n",
       "    </tr>\n",
       "    <tr>\n",
       "      <th>3</th>\n",
       "      <td>bob</td>\n",
       "      <td>math</td>\n",
       "      <td>78</td>\n",
       "      <td>C</td>\n",
       "      <td>Passed</td>\n",
       "    </tr>\n",
       "    <tr>\n",
       "      <th>4</th>\n",
       "      <td>bob</td>\n",
       "      <td>science</td>\n",
       "      <td>84</td>\n",
       "      <td>B</td>\n",
       "      <td>Passed</td>\n",
       "    </tr>\n",
       "    <tr>\n",
       "      <th>5</th>\n",
       "      <td>bob</td>\n",
       "      <td>arts</td>\n",
       "      <td>75</td>\n",
       "      <td>C</td>\n",
       "      <td>Passed</td>\n",
       "    </tr>\n",
       "    <tr>\n",
       "      <th>6</th>\n",
       "      <td>charlie</td>\n",
       "      <td>math</td>\n",
       "      <td>88</td>\n",
       "      <td>B</td>\n",
       "      <td>Passed</td>\n",
       "    </tr>\n",
       "    <tr>\n",
       "      <th>7</th>\n",
       "      <td>charlie</td>\n",
       "      <td>science</td>\n",
       "      <td>64</td>\n",
       "      <td>D</td>\n",
       "      <td>Passed</td>\n",
       "    </tr>\n",
       "    <tr>\n",
       "      <th>8</th>\n",
       "      <td>charlie</td>\n",
       "      <td>arts</td>\n",
       "      <td>61</td>\n",
       "      <td>D</td>\n",
       "      <td>Passed</td>\n",
       "    </tr>\n",
       "    <tr>\n",
       "      <th>9</th>\n",
       "      <td>linda</td>\n",
       "      <td>math</td>\n",
       "      <td>58</td>\n",
       "      <td>F</td>\n",
       "      <td>Failed</td>\n",
       "    </tr>\n",
       "    <tr>\n",
       "      <th>10</th>\n",
       "      <td>linda</td>\n",
       "      <td>science</td>\n",
       "      <td>87</td>\n",
       "      <td>B</td>\n",
       "      <td>Passed</td>\n",
       "    </tr>\n",
       "    <tr>\n",
       "      <th>11</th>\n",
       "      <td>linda</td>\n",
       "      <td>arts</td>\n",
       "      <td>80</td>\n",
       "      <td>B</td>\n",
       "      <td>Passed</td>\n",
       "    </tr>\n",
       "    <tr>\n",
       "      <th>12</th>\n",
       "      <td>maria</td>\n",
       "      <td>math</td>\n",
       "      <td>64</td>\n",
       "      <td>D</td>\n",
       "      <td>Passed</td>\n",
       "    </tr>\n",
       "    <tr>\n",
       "      <th>13</th>\n",
       "      <td>maria</td>\n",
       "      <td>science</td>\n",
       "      <td>75</td>\n",
       "      <td>C</td>\n",
       "      <td>Passed</td>\n",
       "    </tr>\n",
       "    <tr>\n",
       "      <th>14</th>\n",
       "      <td>maria</td>\n",
       "      <td>arts</td>\n",
       "      <td>73</td>\n",
       "      <td>C</td>\n",
       "      <td>Passed</td>\n",
       "    </tr>\n",
       "  </tbody>\n",
       "</table>\n",
       "</div>"
      ],
      "text/plain": [
       "       name  subject  grade letter_grade  status\n",
       "0     alice     math     79            C  Passed\n",
       "1     alice  science     88            B  Passed\n",
       "2     alice     arts     50            F  Failed\n",
       "3       bob     math     78            C  Passed\n",
       "4       bob  science     84            B  Passed\n",
       "5       bob     arts     75            C  Passed\n",
       "6   charlie     math     88            B  Passed\n",
       "7   charlie  science     64            D  Passed\n",
       "8   charlie     arts     61            D  Passed\n",
       "9     linda     math     58            F  Failed\n",
       "10    linda  science     87            B  Passed\n",
       "11    linda     arts     80            B  Passed\n",
       "12    maria     math     64            D  Passed\n",
       "13    maria  science     75            C  Passed\n",
       "14    maria     arts     73            C  Passed"
      ]
     },
     "execution_count": 60,
     "metadata": {},
     "output_type": "execute_result"
    }
   ],
   "source": [
    "df.name = df.name.str.lower()\n",
    "df.subject = df.subject.str.lower()\n",
    "df"
   ]
  },
  {
   "cell_type": "markdown",
   "id": "bc018665-ec90-45c0-9c38-de389d15ed8f",
   "metadata": {
    "id": "bc018665-ec90-45c0-9c38-de389d15ed8f"
   },
   "source": [
    "8. *\\[BONUS\\]* **Plot a bar chart** to visualize the average grade for each student and/or subject  "
   ]
  },
  {
   "cell_type": "code",
   "execution_count": 126,
   "id": "32ac9254-be6b-409c-a96c-6d191568404c",
   "metadata": {
    "colab": {
     "base_uri": "https://localhost:8080/",
     "height": 472
    },
    "id": "32ac9254-be6b-409c-a96c-6d191568404c",
    "outputId": "c1bae100-6e58-44bf-b17b-4933a1731291"
   },
   "outputs": [
    {
     "data": {
      "image/png": "[encoded data removed]",
      "text/plain": [
       "<Figure size 800x550 with 3 Axes>"
      ]
     },
     "metadata": {},
     "output_type": "display_data"
    },
    {
     "data": {
      "image/png": "[encoded data removed]",
      "text/plain": [
       "<Figure size 800x550 with 2 Axes>"
      ]
     },
     "metadata": {},
     "output_type": "display_data"
    }
   ],
   "source": [
    "from seaborn import axes_style\n",
    "theme_dict = {**axes_style(\"whitegrid\"), \"grid.linestyle\": \":\"}\n",
    "#so.Plot().theme(theme_dict)\n",
    "sns.set_style(\"whitegrid\")\n",
    "sns.set_style(\"ticks\", {\"xtick.major.size\":10,\"ytick.major.size\":10})\n",
    "sns.axes_style(\"dark\") \n",
    "fig, axes = plt.subplots(1, 2) #, figsize=(12,8))\n",
    "gs = fig.add_gridspec(3, hspace=0)\n",
    "axs = gs.subplots(sharex=True, sharey=True)\n",
    "fig.suptitle('Sharing both axes')\n",
    "axes[0].set_xlabel( \"Student Name\" ) \n",
    "axes[1].set_xlabel( \"Subject\" ) \n",
    "axes[0].set_ylabel( \"Average Grade\" ) \n",
    "axes[1].set_ylabel( \"Average Grade\" )  \n",
    "a=sns.barplot(\n",
    "    x=\"name\", \n",
    "    y=\"grade\", \n",
    "    data=names, \n",
    "    estimator=sum, \n",
    "    color='skyblue',\n",
    "   # xlabel=\"Student's Name\", ylabel=\"Average Grade\",\n",
    "    ax=axes[0])\n",
    "sns.barplot(\n",
    "    x=\"subject\", \n",
    "    y=\"grade\", \n",
    "    data=subject, \n",
    "    estimator=sum, \n",
    "    color='skyblue',\n",
    "    # label(x=\"Subject\", y=\"Average Grade\", color=\"\")\n",
    "    ax=axes[1]);\n"
   ]
  },
  {
   "cell_type": "code",
   "execution_count": null,
   "id": "5U_3iapEWd42",
   "metadata": {
    "colab": {
     "base_uri": "https://localhost:8080/",
     "height": 564
    },
    "id": "5U_3iapEWd42",
    "outputId": "565e224e-7bfb-41a3-cf24-9bae3f89f78f"
   },
   "outputs": [
    {
     "data": {
      "image/png": "[encoded data removed]",
      "text/plain": [
       "<Figure size 800x600 with 1 Axes>"
      ]
     },
     "metadata": {},
     "output_type": "display_data"
    }
   ],
   "source": []
  },
  {
   "cell_type": "markdown",
   "id": "cf4SWdXcrEHw",
   "metadata": {
    "id": "cf4SWdXcrEHw"
   },
   "source": [
    "# Congratulations - You are Done! 👍\n",
    "\n",
    "Now you mark your Prework as complete and finish the Application Form. In the Application Form we ask you to share the link to this Google Colab!\n",
    "\n",
    "**Please update the sharing settings: Share with everyone. So that we can open your Colab.**"
   ]
  }
 ],
 "metadata": {
  "colab": {
   "include_colab_link": true,
   "provenance": []
  },
  "kernelspec": {
   "display_name": "Python 3 (ipykernel)",
   "language": "python",
   "name": "python3"
  },
  "language_info": {
   "codemirror_mode": {
    "name": "ipython",
    "version": 3
   },
   "file_extension": ".py",
   "mimetype": "text/x-python",
   "name": "python",
   "nbconvert_exporter": "python",
   "pygments_lexer": "ipython3",
   "version": "3.12.3"
  }
 },
 "nbformat": 4,
 "nbformat_minor": 5
}
